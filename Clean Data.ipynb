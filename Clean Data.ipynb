{
 "cells": [
  {
   "cell_type": "code",
   "execution_count": 10,
   "metadata": {},
   "outputs": [],
   "source": [
    "import csv\n",
    "import pandas as pd \n",
    "import pymysql\n",
    "import functools"
   ]
  },
  {
   "cell_type": "code",
   "execution_count": 11,
   "metadata": {},
   "outputs": [],
   "source": [
    "df = pd.read_excel(\"ATP Men's Tour.xlsx\")"
   ]
  },
  {
   "cell_type": "code",
   "execution_count": 12,
   "metadata": {},
   "outputs": [],
   "source": [
    "def run_query_for_connection(connection, query, args=None):\n",
    "    with connection.cursor() as cursor:\n",
    "#         print('Executando query:')\n",
    "#         print(cursor.mogrify(query, args))  # O que este comando faz?\n",
    "        cursor.mogrify(query, args)\n",
    "        cursor.execute(query, args)\n",
    "#         for result in cursor.fetchall():\n",
    "#             print(result)\n",
    "\n",
    "connection_options = {\n",
    "   'host': 'localhost',\n",
    "   'user': 'root',\n",
    "   'password': 'Katchin98',\n",
    "   'database': 'adad',\n",
    "}\n",
    "\n",
    "connection = pymysql.connect(**connection_options)\n",
    "\n",
    "db = functools.partial(run_query_for_connection, connection)"
   ]
  },
  {
   "cell_type": "code",
   "execution_count": 13,
   "metadata": {},
   "outputs": [],
   "source": [
    "df = df.fillna(0)"
   ]
  },
  {
   "cell_type": "code",
   "execution_count": 14,
   "metadata": {},
   "outputs": [],
   "source": [
    "i = 0\n",
    "for index, row in df.iterrows():\n",
    "    try: \n",
    "        db('''\n",
    "        INSERT INTO atp \n",
    "        VALUES(\n",
    "            {0}, \"{1}\", \"{2}\", \"{3}\", \"{4}\", \"{5}\", \"{6}\", \"{7}\", {8}, \"{9}\", \"{10}\", {11}, {12}, {13}, {14}, {15}, \n",
    "            {16}, {17}, {18}, {19}, {20}, {21}, {22}, {23}, {24}, {25}, {26}, \"{27}\", {28}, {29}, {30}, \n",
    "            {31}, {32}, {33}, {34}, {35}, {36}, {37}, {38}, {39}\n",
    "        )\n",
    "        '''.format(\n",
    "        row['ATP'], row['Location'], row['Tournament'], row['Date'], row['Series'], row['Court'], \n",
    "        row['Surface'], row['Round'], row['Best of'], row['Winner'], row['Loser'], row['WRank'], \n",
    "        row['LRank'], row['WPts'], row['LPts'], row['W1'], row['L1'], row['W2'], row['L2'], row['W3'],\n",
    "        row['L3'], row['W4'], row['L4'], row['W5'], row['L5'], row['Wsets'], row['Lsets'], row['Comment'], \n",
    "        row['B365W'], row['B365L'], row['EXW'], row['EXL'], row['LBW'], row['LBL'], row['PSW'], row['PSL'], \n",
    "        row['MaxW'], row['MaxL'], row['AvgW'], row['AvgL'])\n",
    "        )   \n",
    "    except Exception as e:\n",
    "        print(\"ERRO LINHA: \" + str(i))\n",
    "        print(e)\n",
    "        print('''\n",
    "        INSERT INTO atp \n",
    "        VALUES(\n",
    "            {0}, \"{1}\", \"{2}\", \"{3}\", \"{4}\", \"{5}\", \"{6}\", \"{7}\", {8}, \"{9}\", \"{10}\", {11}, {12}, {13}, {14}, {15}, \n",
    "            {16}, {17}, {18}, {19}, {20}, {21}, {22}, {23}, {24}, {25}, {26}, \"{27}\", {28}, {29}, {30}, \n",
    "            {31}, {32}, {33}, {34}, {35}, {36}, {37}, {38}, {39}\n",
    "        )\n",
    "        '''.format(\n",
    "        row['ATP'], row['Location'], row['Tournament'], row['Date'], row['Series'], row['Court'], \n",
    "        row['Surface'], row['Round'], row['Best of'], row['Winner'], row['Loser'], row['WRank'], \n",
    "        row['LRank'], row['WPts'], row['LPts'], row['W1'], row['L1'], row['W2'], row['L2'], row['W3'],\n",
    "        row['L3'], row['W4'], row['L4'], row['W5'], row['L5'], row['Wsets'], row['Lsets'], row['Comment'], \n",
    "        row['B365W'], row['B365L'], row['EXW'], row['EXL'], row['LBW'], row['LBL'], row['PSW'], row['PSL'], \n",
    "        row['MaxW'], row['MaxL'], row['AvgW'], row['AvgL'])\n",
    "        )\n",
    "        \n",
    "    i += 1\n",
    "    connection.commit() "
   ]
  },
  {
   "cell_type": "code",
   "execution_count": 21,
   "metadata": {},
   "outputs": [
    {
     "data": {
      "text/plain": [
       "array([3, 5])"
      ]
     },
     "execution_count": 21,
     "metadata": {},
     "output_type": "execute_result"
    }
   ],
   "source": []
  },
  {
   "cell_type": "code",
   "execution_count": 16,
   "metadata": {},
   "outputs": [],
   "source": [
    "connection.close()"
   ]
  },
  {
   "cell_type": "code",
   "execution_count": null,
   "metadata": {},
   "outputs": [],
   "source": [
    "for i in range(0,40):\n",
    "    print('{' + str(i) + '}, ', end=\"\")\n",
    "print(\"\\n\")\n",
    "o = 0\n",
    "for name in df.columns:\n",
    "    print(\"row['{0}'], \".format(name), end=\"\")\n",
    "    o+=1"
   ]
  },
  {
   "cell_type": "code",
   "execution_count": null,
   "metadata": {},
   "outputs": [],
   "source": []
  }
 ],
 "metadata": {
  "kernelspec": {
   "display_name": "Python 3",
   "language": "python",
   "name": "python3"
  },
  "language_info": {
   "codemirror_mode": {
    "name": "ipython",
    "version": 3
   },
   "file_extension": ".py",
   "mimetype": "text/x-python",
   "name": "python",
   "nbconvert_exporter": "python",
   "pygments_lexer": "ipython3",
   "version": "3.7.5"
  }
 },
 "nbformat": 4,
 "nbformat_minor": 2
}
